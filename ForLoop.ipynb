{
 "cells": [
  {
   "cell_type": "code",
   "execution_count": 18,
   "id": "20ace641",
   "metadata": {},
   "outputs": [
    {
     "name": "stdout",
     "output_type": "stream",
     "text": [
      "A\n",
      "B\n",
      "C\n",
      "D\n"
     ]
    }
   ],
   "source": [
    "list = ['A','B','C','D']\n",
    "for i in list:\n",
    "    print(i)"
   ]
  },
  {
   "cell_type": "code",
   "execution_count": 19,
   "id": "5554ec61",
   "metadata": {},
   "outputs": [
    {
     "name": "stdout",
     "output_type": "stream",
     "text": [
      "A\n",
      "B\n",
      "C\n",
      "D\n"
     ]
    }
   ],
   "source": [
    "tup = ('A','B','C','D')\n",
    "\n",
    "for i in tup:\n",
    "    print(i)"
   ]
  },
  {
   "cell_type": "code",
   "execution_count": 20,
   "id": "3b3d41b4",
   "metadata": {},
   "outputs": [
    {
     "name": "stdout",
     "output_type": "stream",
     "text": [
      "A\n",
      "B\n",
      "C\n",
      "D\n"
     ]
    }
   ],
   "source": [
    "str = 'A', 'B', 'C', 'D'\n",
    "\n",
    "for i in str:\n",
    "    print(i)"
   ]
  },
  {
   "cell_type": "markdown",
   "id": "6b1fd21a",
   "metadata": {},
   "source": [
    "Practice Task\n",
    "Goal: Count how many even numbers are between 1 and 20 (inclusive).\n",
    "\n",
    "🔹 What you need to do:\n",
    "Initialize a variable to keep count of even numbers.\n",
    "\n",
    "Use a for loop to go through numbers from 1 to 20.\n",
    "\n",
    "Inside the loop, check if the number is even (number % 2 == 0).\n",
    "\n",
    "If it is even, increase the count by 1.\n",
    "\n",
    "After the loop, print the final count."
   ]
  },
  {
   "cell_type": "code",
   "execution_count": 3,
   "id": "53509695",
   "metadata": {},
   "outputs": [
    {
     "name": "stdout",
     "output_type": "stream",
     "text": [
      "10\n"
     ]
    }
   ],
   "source": [
    "even_count = 0\n",
    "\n",
    "for number in range(1, 21):\n",
    "    if number % 2 == 0:\n",
    "        even_count += 1  # Increase the count\n",
    "\n",
    "print(even_count)"
   ]
  },
  {
   "cell_type": "markdown",
   "id": "a4f6dd8b",
   "metadata": {},
   "source": [
    "Practice Task 2: Sum of Odd Numbers\n",
    "Goal: Find the sum of all odd numbers between 1 and 100 (inclusive).\n",
    "\n",
    "🔹 What You Need to Do:\n",
    "Initialize a variable to hold the sum of odd numbers.\n",
    "\n",
    "Use a for loop to go through numbers from 1 to 100.\n",
    "\n",
    "Inside the loop, check if the number is odd (number % 2 != 0).\n",
    "\n",
    "If it's odd, add it to your sum.\n",
    "\n",
    "After the loop, print the final sum."
   ]
  },
  {
   "cell_type": "code",
   "execution_count": 4,
   "id": "c4a4e7be",
   "metadata": {},
   "outputs": [
    {
     "name": "stdout",
     "output_type": "stream",
     "text": [
      "2500\n"
     ]
    }
   ],
   "source": [
    "odd_sum = 0\n",
    "\n",
    "for number in range(1,101):\n",
    "    if number % 2 != 0:\n",
    "        odd_sum += number\n",
    "print(odd_sum)"
   ]
  },
  {
   "cell_type": "markdown",
   "id": "c3d2ee13",
   "metadata": {},
   "source": [
    "Challenge Task: Compare Even and Odd Sums\n",
    "Goal:\n",
    "From numbers 1 to 100:\n",
    "\n",
    "Calculate the sum of even numbers\n",
    "\n",
    "Calculate the sum of odd numbers\n",
    "\n",
    "Print both sums\n",
    "\n",
    "Then print which sum is larger (even or odd)\n",
    "\n",
    "🔹 What You Need to Do:\n",
    "Initialize two variables: even_sum and odd_sum, both set to 0.\n",
    "\n",
    "Use a for loop to go through numbers from 1 to 100.\n",
    "\n",
    "Inside the loop:\n",
    "\n",
    "If the number is even (% 2 == 0), add to even_sum\n",
    "\n",
    "Otherwise, add to odd_sum\n",
    "\n",
    "After the loop:\n",
    "\n",
    "Print both sums\n",
    "\n",
    "Compare them and print which one is larger, or if they are equal\n"
   ]
  },
  {
   "cell_type": "code",
   "execution_count": 5,
   "id": "0ba162fd",
   "metadata": {},
   "outputs": [
    {
     "name": "stdout",
     "output_type": "stream",
     "text": [
      "even_sum: 2550, odd_sum: 2500\n",
      "2550 (even_sum) is larger\n"
     ]
    }
   ],
   "source": [
    "even_sum = 0\n",
    "odd_sum = 0\n",
    "\n",
    "for number in range(1, 101):\n",
    "    if number % 2 == 0:\n",
    "        even_sum += number\n",
    "    else:\n",
    "        odd_sum += number\n",
    "\n",
    "print(f\"even_sum: {even_sum}, odd_sum: {odd_sum}\")\n",
    "\n",
    "if even_sum > odd_sum:\n",
    "    print(f\"{even_sum} (even_sum) is larger\")\n",
    "elif even_sum < odd_sum:\n",
    "    print(f\"{odd_sum} (odd_sum) is larger\")\n",
    "else:\n",
    "    print(\"Both sums are equal\")\n"
   ]
  },
  {
   "cell_type": "markdown",
   "id": "8bf109d3",
   "metadata": {},
   "source": [
    "Challenge Task: Sum of Even and Odd Numbers from User Input\n",
    "🔹 Goal:\n",
    "Ask the user to enter 10 numbers, one at a time.\n",
    "\n",
    "Store these numbers in a list.\n",
    "\n",
    "Calculate the sum of even numbers and the sum of odd numbers in that list.\n",
    "\n",
    "Print:\n",
    "\n",
    "The list of numbers\n",
    "\n",
    "The sum of even numbers\n",
    "\n",
    "The sum of odd numbers\n",
    "\n",
    "Which sum is larger (or if they are equal)\n",
    "\n",
    "💡 Hints:\n",
    "Use input() in a loop to collect numbers.\n",
    "\n",
    "Convert input to int using int().\n",
    "\n",
    "Use append() to store each number in a list.\n",
    "\n",
    "Loop through the list to separate even/odd sums."
   ]
  },
  {
   "cell_type": "code",
   "execution_count": 6,
   "id": "9e6dd22d",
   "metadata": {},
   "outputs": [
    {
     "name": "stdout",
     "output_type": "stream",
     "text": [
      "The list of numbers: [1, 2, 3, 4, 5, 6, 7, 8, 9, 10]\n",
      "The sum of even numbers: 30\n",
      "The sum of odd numbers: 25\n",
      "Even numbers sum is larger: 30\n"
     ]
    }
   ],
   "source": [
    "numbers = []  # Create an empty list to store the numbers\n",
    "\n",
    "# Step 1: Get 10 numbers from the user\n",
    "for i in range(10):\n",
    "    user_input = input(f\"Enter number {i + 1}: \")\n",
    "    number = int(user_input)\n",
    "    numbers.append(number)\n",
    "\n",
    "# Step 2: Show the list\n",
    "print(\"The list of numbers:\", numbers)\n",
    "\n",
    "# Step 3: Initialize the sums\n",
    "even_sum = 0\n",
    "odd_sum = 0\n",
    "\n",
    "# Step 4: Loop through the list and separate even/odd\n",
    "for i in numbers:\n",
    "    if i % 2 == 0:\n",
    "        even_sum += i\n",
    "    else:\n",
    "        odd_sum += i\n",
    "\n",
    "# Step 5: Print the results\n",
    "print(\"The sum of even numbers:\", even_sum)\n",
    "print(\"The sum of odd numbers:\", odd_sum)\n",
    "\n",
    "if even_sum > odd_sum:\n",
    "    print(\"Even numbers sum is larger:\", even_sum)\n",
    "elif even_sum < odd_sum:\n",
    "    print(\"Odd numbers sum is larger:\", odd_sum)\n",
    "else:\n",
    "    print(\"Both sums are equal.\")\n"
   ]
  },
  {
   "cell_type": "markdown",
   "id": "af16e78c",
   "metadata": {},
   "source": [
    "Extended Challenge: List Analysis\n",
    "After collecting 10 numbers from the user, add these features:\n",
    "\n",
    "🔹 New Goals:\n",
    "✅ Calculate sum of even and sum of odd numbers (already done ✅)\n",
    "\n",
    "➕ Find the average of all numbers\n",
    "\n",
    "📈 Find the maximum and minimum number\n",
    "\n",
    "🔍 Print only the positive numbers\n",
    "\n",
    "🔎 Print only the negative numbers"
   ]
  },
  {
   "cell_type": "code",
   "execution_count": 21,
   "id": "326c98a0",
   "metadata": {},
   "outputs": [
    {
     "name": "stdout",
     "output_type": "stream",
     "text": [
      "Enter 10 numbers:\n",
      "\n",
      "🔹 Results:\n",
      "✅ Sum of even numbers: 30.0\n",
      "✅ Sum of odd numbers: 25.0\n",
      "➕ Average of all numbers: 5.5\n",
      "📈 Maximum number: 10.0\n",
      "📉 Minimum number: 1.0\n",
      "🔍 Positive numbers: [1.0, 2.0, 3.0, 4.0, 5.0, 6.0, 7.0, 8.0, 9.0, 10.0]\n",
      "🔎 Negative numbers: []\n"
     ]
    }
   ],
   "source": [
    "numbers = []\n",
    "print(\"Enter 10 numbers:\")\n",
    "for i in range(10):\n",
    "    num = float(input(f\"Number {i+1}: \"))\n",
    "    numbers.append(num)\n",
    "    \n",
    "# Sum of even and odd numbers\n",
    "sum_even = sum(num for num in numbers if num % 2 == 0)\n",
    "sum_odd = sum(num for num in numbers if num % 2 != 0)\n",
    "\n",
    "# Average of all numbers\n",
    "average = sum(numbers) / len(numbers)\n",
    "\n",
    "# Maximum and minimum number\n",
    "maximum = max(numbers)\n",
    "minimum = min(numbers)\n",
    "\n",
    "# Positive and negative numbers\n",
    "positive_numbers = [num for num in numbers if num > 0]\n",
    "negative_numbers = [num for num in numbers if num < 0]\n",
    "\n",
    "# Output\n",
    "print(\"\\n🔹 Results:\")\n",
    "print(f\"✅ Sum of even numbers: {sum_even}\")\n",
    "print(f\"✅ Sum of odd numbers: {sum_odd}\")\n",
    "print(f\"➕ Average of all numbers: {average}\")\n",
    "print(f\"📈 Maximum number: {maximum}\")\n",
    "print(f\"📉 Minimum number: {minimum}\")\n",
    "print(f\"🔍 Positive numbers: {positive_numbers}\")\n",
    "print(f\"🔎 Negative numbers: {negative_numbers}\")"
   ]
  },
  {
   "cell_type": "code",
   "execution_count": 27,
   "id": "419151d4",
   "metadata": {},
   "outputs": [
    {
     "name": "stdout",
     "output_type": "stream",
     "text": [
      "Enter 10 numbers:\n",
      "\n",
      "🔹 Results:\n",
      "✅ Sum of even numbers: 30.0\n",
      "✅ Sum of odd numbers: 25.0\n",
      "➕ Average: 5.5\n",
      "📈 Maximum: 10.0\n",
      "📉 Minimum: 1.0\n",
      "🔍 Positive numbers: [1.0, 2.0, 3.0, 4.0, 5.0, 6.0, 7.0, 8.0, 9.0, 10.0]\n",
      "🔎 Negative numbers: []\n"
     ]
    }
   ],
   "source": [
    "# Collect 10 numbers from the user\n",
    "numbers = []\n",
    "print(\"Enter 10 numbers:\")\n",
    "for i in range(10):\n",
    "    num = float(input(f\"Number {i+1}: \"))\n",
    "    numbers.append(num)\n",
    "\n",
    "# Calculations\n",
    "sum_even = sum(num for num in numbers if num % 2 == 0)\n",
    "sum_odd = sum(num for num in numbers if num % 2 != 0)\n",
    "average = sum(numbers) / len(numbers)\n",
    "maximum = max(numbers)\n",
    "minimum = min(numbers)\n",
    "positive_numbers = [num for num in numbers if num > 0]\n",
    "negative_numbers = [num for num in numbers if num < 0]\n",
    "\n",
    "# Output\n",
    "results = {\n",
    "    \"✅ Sum of even numbers\": sum_even,\n",
    "    \"✅ Sum of odd numbers\": sum_odd,\n",
    "    \"➕ Average\": average,\n",
    "    \"📈 Maximum\": maximum,\n",
    "    \"📉 Minimum\": minimum,\n",
    "    \"🔍 Positive numbers\": positive_numbers,\n",
    "    \"🔎 Negative numbers\": negative_numbers\n",
    "}\n",
    "\n",
    "print(\"\\n🔹 Results:\")\n",
    "for key, value in results.items():\n",
    "    print(f\"{key}: {value}\")\n"
   ]
  },
  {
   "cell_type": "markdown",
   "id": "f6a5dbe0",
   "metadata": {},
   "source": [
    "You are given a list of numbers. You need to:\n",
    "\n",
    "Count how many numbers are greater than 10\n",
    "\n",
    "Add up (sum) all the numbers\n",
    "\n",
    "Store all even numbers in a list"
   ]
  },
  {
   "cell_type": "code",
   "execution_count": 7,
   "id": "228cd8a7",
   "metadata": {},
   "outputs": [
    {
     "name": "stdout",
     "output_type": "stream",
     "text": [
      "Count:  4\n",
      "Total 90\n",
      "Evens [12, 18, 22, 8]\n"
     ]
    }
   ],
   "source": [
    "numbers = [5, 12, 7, 18, 3, 22, 8, 15]\n",
    "\n",
    "count = 0\n",
    "total = 0\n",
    "evens = []\n",
    "\n",
    "for i in numbers:\n",
    "    if i > 10:\n",
    "        count += 1\n",
    "        \n",
    "    total += i\n",
    "    if i % 2 == 0:\n",
    "        evens.append(i)\n",
    "\n",
    "print(\"Count: \", count)\n",
    "print(\"Total\", total)\n",
    "print(\"Evens\", evens)"
   ]
  },
  {
   "cell_type": "markdown",
   "id": "3b6d9911",
   "metadata": {},
   "source": [
    "## Task 2: Analyze Names in a List\n",
    "You’re given a list of names:\n",
    "names = [\"Ali\", \"Zara\", \"Usman\", \"Sara\", \"Ahmed\", \"Zain\"]\n",
    "Write a Python program that:\n",
    "\n",
    "✅ 1. Counts how many names start with the letter \"A\" (capital A only)\n",
    "✅ 2. Creates a list of names that are 4 letters long\n",
    "✅ 3. Builds a string that joins all the names with a comma"
   ]
  },
  {
   "cell_type": "code",
   "execution_count": 28,
   "id": "d4f36ae6",
   "metadata": {},
   "outputs": [
    {
     "name": "stdout",
     "output_type": "stream",
     "text": [
      "Count of names starting with A: 2\n",
      "['Zara', 'Sara', 'Zain']\n",
      "All names (joined): Ali,Zara,Usman,Sara,Ahmed,Zain,\n"
     ]
    }
   ],
   "source": [
    "names = [\"Ali\", \"Zara\", \"Usman\", \"Sara\", \"Ahmed\", \"Zain\"]\n",
    "\n",
    "count_a = 0\n",
    "short_names = []\n",
    "all_names = \"\"\n",
    "\n",
    "\n",
    "for i in names:\n",
    "    if i.startswith(\"A\"):\n",
    "        count_a += 1\n",
    "    \n",
    "    if len(i)  == 4:\n",
    "        short_names.append(i)\n",
    "    \n",
    "    all_names += i + \",\"\n",
    "\n",
    "\n",
    "print(\"Count of names starting with A:\", count_a)\n",
    "print(short_names)\n",
    "print(\"All names (joined):\", all_names)"
   ]
  },
  {
   "cell_type": "markdown",
   "id": "12f00e67",
   "metadata": {},
   "source": [
    "### Challenge Task: Analyze and Format Names\n",
    "\n",
    "✅ 1. Counts how many names end with the letter \"a\" (case-insensitive: \"a\" or \"A\")\n",
    "✅ 2. Creates a new list that contains names in uppercase\n",
    "✅ 3. Creates a formatted string that looks like:\n",
    "Names: Ali | Zara | Usman | Sara | Ahmed | Zain"
   ]
  },
  {
   "cell_type": "code",
   "execution_count": 37,
   "id": "77d2df2f",
   "metadata": {},
   "outputs": [
    {
     "name": "stdout",
     "output_type": "stream",
     "text": [
      "Ends with 'a': 2\n",
      "Uppercase names: ['ALI', 'ZARA', 'USMAN', 'SARA', 'AHMED', 'ZAIN']\n",
      "Names: Ali | Zara | Usman | Sara | Ahmed | Zain\n"
     ]
    }
   ],
   "source": [
    "names = [\"Ali\", \"Zara\", \"Usman\", \"Sara\", \"Ahmed\", \"Zain\"]\n",
    "\n",
    "ends_with_a = 0\n",
    "uppercase_names = []\n",
    "\n",
    "for i in names:\n",
    "    if i.lower().endswith(\"a\"):\n",
    "        ends_with_a += 1\n",
    "        \n",
    "    uppercase_names.append(i.upper())\n",
    "\n",
    "formatted_names = \"Names: \" + \" | \".join(names)\n",
    "\n",
    "print(\"Ends with 'a':\", ends_with_a)\n",
    "print(\"Uppercase names:\", uppercase_names)\n",
    "print(formatted_names)\n"
   ]
  },
  {
   "cell_type": "markdown",
   "id": "66c5af8d",
   "metadata": {},
   "source": []
  }
 ],
 "metadata": {
  "kernelspec": {
   "display_name": "Python 3",
   "language": "python",
   "name": "python3"
  },
  "language_info": {
   "codemirror_mode": {
    "name": "ipython",
    "version": 3
   },
   "file_extension": ".py",
   "mimetype": "text/x-python",
   "name": "python",
   "nbconvert_exporter": "python",
   "pygments_lexer": "ipython3",
   "version": "3.10.8"
  }
 },
 "nbformat": 4,
 "nbformat_minor": 5
}
