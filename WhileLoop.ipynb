{
 "cells": [
  {
   "cell_type": "code",
   "execution_count": 1,
   "id": "b9720d53",
   "metadata": {},
   "outputs": [
    {
     "name": "stdout",
     "output_type": "stream",
     "text": [
      "4\n",
      "3\n",
      "2\n",
      "1\n",
      "0\n"
     ]
    }
   ],
   "source": [
    "n = 5\n",
    "\n",
    "while n > 0:\n",
    "    n = n-1\n",
    "    print(n)"
   ]
  },
  {
   "cell_type": "code",
   "execution_count": 7,
   "id": "e5c73aba",
   "metadata": {},
   "outputs": [
    {
     "name": "stdout",
     "output_type": "stream",
     "text": [
      "3 x 1 = 3\n",
      "3 x 2 = 6\n",
      "3 x 3 = 9\n",
      "3 x 4 = 12\n",
      "3 x 5 = 15\n",
      "3 x 6 = 18\n",
      "3 x 7 = 21\n",
      "3 x 8 = 24\n",
      "3 x 9 = 27\n",
      "3 x 10 = 30\n"
     ]
    }
   ],
   "source": [
    "n = 3\n",
    "i = 0\n",
    "\n",
    "while i < 10:\n",
    "    i = i+1\n",
    "    print(n,'x',i,'=',n*i)"
   ]
  },
  {
   "cell_type": "code",
   "execution_count": 9,
   "id": "0d760764",
   "metadata": {},
   "outputs": [
    {
     "name": "stdout",
     "output_type": "stream",
     "text": [
      "5\n",
      "6\n",
      "3\n",
      "4\n"
     ]
    }
   ],
   "source": [
    "n = 4365\n",
    "\n",
    "while n > 0:\n",
    "    r = n%10\n",
    "    print(r)\n",
    "    n = n // 10"
   ]
  },
  {
   "cell_type": "code",
   "execution_count": null,
   "id": "c405cda8",
   "metadata": {},
   "outputs": [
    {
     "name": "stdout",
     "output_type": "stream",
     "text": [
      "Number of Digits:  5\n"
     ]
    }
   ],
   "source": [
    "# Challeneg 1\n",
    "# Count digits of Number\n",
    "\n",
    "n = int(input(\"Enter a Number: \"))\n",
    "i = 0\n",
    "while n > 0:\n",
    "    i = i+1\n",
    "    n = n//10\n",
    "print('Number of Digits: ',i)"
   ]
  },
  {
   "cell_type": "code",
   "execution_count": 3,
   "id": "2542fb02",
   "metadata": {},
   "outputs": [
    {
     "name": "stdout",
     "output_type": "stream",
     "text": [
      "Sum of Digits:  14\n"
     ]
    }
   ],
   "source": [
    "# Challeneg 2\n",
    "# Sum of dgits of Number\n",
    "\n",
    "n = int(input(\"Enter Number: \"))\n",
    "sum = 0\n",
    "while n > 0:\n",
    "    r = n%10\n",
    "    sum = sum+r\n",
    "    n = n//10\n",
    "    \n",
    "print('Sum of Digits: ',sum)"
   ]
  },
  {
   "cell_type": "code",
   "execution_count": 4,
   "id": "6e87441d",
   "metadata": {},
   "outputs": [
    {
     "name": "stdout",
     "output_type": "stream",
     "text": [
      "Reverse of the Number:  4321\n"
     ]
    }
   ],
   "source": [
    "# Challeneg 3\n",
    "# Reverse of Number\n",
    "\n",
    "n = int(input(\"Enter Number: \"))\n",
    "rev = 0\n",
    "while n > 0:\n",
    "    r = n%10\n",
    "    rev = rev*10 + r\n",
    "    n = n//10\n",
    "    \n",
    "print('Reverse of the Number: ',rev)\n"
   ]
  },
  {
   "cell_type": "code",
   "execution_count": 16,
   "id": "359b93a7",
   "metadata": {},
   "outputs": [
    {
     "name": "stdout",
     "output_type": "stream",
     "text": [
      "Palindrome\n"
     ]
    }
   ],
   "source": [
    "# Challeneg 4\n",
    "# Checking Palindrome\n",
    "\n",
    "n = int(input(\"Enter Number: \"))\n",
    "rev = 0\n",
    "m = n\n",
    "while n > 0:\n",
    "    r = n%10\n",
    "    rev = rev*10 + r\n",
    "    n = n//10\n",
    "    #print(rev)\n",
    "if m == rev:\n",
    "    print(\"Palindrome\")\n",
    "else:\n",
    "    print(\"Not a Palindrome\")"
   ]
  },
  {
   "cell_type": "code",
   "execution_count": 1,
   "id": "e130ff10",
   "metadata": {},
   "outputs": [
    {
     "name": "stdout",
     "output_type": "stream",
     "text": [
      "15\n"
     ]
    }
   ],
   "source": [
    "# Summation Logic\n",
    "\n",
    "n = 5\n",
    "i = 0\n",
    "Sum = 0\n",
    "\n",
    "while i < n:\n",
    "    i = i + 1\n",
    "    Sum = Sum + i\n",
    "print(Sum)    "
   ]
  },
  {
   "cell_type": "code",
   "execution_count": 2,
   "id": "b3b3d94f",
   "metadata": {},
   "outputs": [
    {
     "name": "stdout",
     "output_type": "stream",
     "text": [
      "Enter 5 Numbers\n",
      "15\n"
     ]
    }
   ],
   "source": [
    "# Sum of n Numbers\n",
    "\n",
    "n = 5\n",
    "i = 0\n",
    "Sum = 0\n",
    "print('Enter', n, 'Numbers')\n",
    "\n",
    "while i < n:\n",
    "    i = i + 1\n",
    "    x = int(input(''))\n",
    "    Sum = Sum + x\n",
    "print(Sum)   "
   ]
  },
  {
   "cell_type": "code",
   "execution_count": 12,
   "id": "a2af1a96",
   "metadata": {},
   "outputs": [
    {
     "name": "stdout",
     "output_type": "stream",
     "text": [
      "Enter 5 Numbers\n",
      "Max 8\n"
     ]
    }
   ],
   "source": [
    "# Finding Maximum\n",
    "\n",
    "n = 5\n",
    "print('Enter', n, 'Numbers')\n",
    "i = 0\n",
    "max = 0\n",
    "\n",
    "while i < n:\n",
    "    i = i+1\n",
    "    x = int(input(''))\n",
    "    if x > max:\n",
    "        max = x\n",
    "\n",
    "print('Max', max)\n"
   ]
  },
  {
   "cell_type": "code",
   "execution_count": 18,
   "id": "2cbb549f",
   "metadata": {},
   "outputs": [
    {
     "name": "stdout",
     "output_type": "stream",
     "text": [
      "Enter 5 Numbers\n",
      "Max 5\n",
      "Min 1\n"
     ]
    }
   ],
   "source": [
    "# MAX MIN\n",
    "\n",
    "n = 5\n",
    "print('Enter', n, 'Numbers')\n",
    "i = 0\n",
    "max = 0\n",
    "#min = 0\n",
    "\n",
    "while i < n:\n",
    "    i = i+1\n",
    "    x = int(input(''))\n",
    "    if x > max:\n",
    "        max = x\n",
    "    if x< min:\n",
    "        min = x\n",
    "\n",
    "print('Max', max)\n",
    "print('Min', min)"
   ]
  },
  {
   "cell_type": "code",
   "execution_count": 2,
   "id": "90accb89",
   "metadata": {},
   "outputs": [
    {
     "name": "stdout",
     "output_type": "stream",
     "text": [
      "Sum 28\n"
     ]
    }
   ],
   "source": [
    "# FOR LOOP\n",
    "\n",
    "n = int(input(\"Enter Number: \"))\n",
    "Sum = 0\n",
    "\n",
    "for i in range(0, n+1):\n",
    "    Sum = Sum + i\n",
    "print('Sum', Sum)"
   ]
  },
  {
   "cell_type": "code",
   "execution_count": 9,
   "id": "019aceba",
   "metadata": {},
   "outputs": [
    {
     "name": "stdout",
     "output_type": "stream",
     "text": [
      "Fac 120\n"
     ]
    }
   ],
   "source": [
    "n = int(input(\"Enter Number: \"))\n",
    "Fac = 1\n",
    "\n",
    "for i in range(1, n+1):\n",
    "    #i = i+1\n",
    "    Fac = Fac * i\n",
    "print('Fac', Fac)"
   ]
  },
  {
   "cell_type": "code",
   "execution_count": 19,
   "id": "63dd19c9",
   "metadata": {},
   "outputs": [
    {
     "name": "stdout",
     "output_type": "stream",
     "text": [
      "fib( 6 ) = 8\n"
     ]
    }
   ],
   "source": [
    "# Fibonacci Series\n",
    "\n",
    "n = int(input('Enter a num. '))\n",
    "a = 0\n",
    "b = 1\n",
    "\n",
    "for i in range(0,n):\n",
    "    c = a+b\n",
    "    a = b\n",
    "    b = c\n",
    "print('fib(',n,') =',a)\n"
   ]
  },
  {
   "cell_type": "code",
   "execution_count": 27,
   "id": "96b8623b",
   "metadata": {},
   "outputs": [
    {
     "name": "stdout",
     "output_type": "stream",
     "text": [
      "Factorials of 15 : [1, 3, 5, 15]\n",
      "Non-Factorials of 15 : [2, 4, 6, 7, 8, 9, 10, 11, 12, 13, 14]\n"
     ]
    }
   ],
   "source": [
    "# Factors of a Number\n",
    "\n",
    "n = int(input('Enter a num. '))\n",
    "l = []\n",
    "m = []\n",
    "\n",
    "for i in range(1, n+1):\n",
    "    if n % i == 0:\n",
    "        l.append(i)\n",
    "    else:\n",
    "        m.append(i)\n",
    "        \n",
    "print(\"Factorials of\", n, \":\", l)\n",
    "print(\"Non-Factorials of\", n, \":\", m)"
   ]
  },
  {
   "cell_type": "code",
   "execution_count": 31,
   "id": "28cc923c",
   "metadata": {},
   "outputs": [
    {
     "name": "stdout",
     "output_type": "stream",
     "text": [
      "7 is Prime\n"
     ]
    }
   ],
   "source": [
    "# Prime Numbers\n",
    "\n",
    "n = int(input('Enter a num. '))\n",
    "count = 0\n",
    "\n",
    "for i in range(1, n+1):\n",
    "    if n % i == 0:\n",
    "        count += 1\n",
    "\n",
    "if count == 2:\n",
    "    print(n, 'is Prime')\n",
    "else:\n",
    "    print(n, 'is Non Prime')"
   ]
  },
  {
   "cell_type": "code",
   "execution_count": 40,
   "id": "053011bf",
   "metadata": {},
   "outputs": [
    {
     "name": "stdout",
     "output_type": "stream",
     "text": [
      "Prime numbers are: [2, 3, 5, 7, 11, 13, 17, 19, 23, 29, 31, 37, 41, 43, 47, 53, 59, 61, 67, 71, 73, 79, 83, 89, 97]\n"
     ]
    }
   ],
   "source": [
    "# Prime 1-100 with nested for Loop\n",
    "\n",
    "#n = range(1,101)\n",
    "#count = 0\n",
    "prime_numbers = [] \n",
    "\n",
    "for i in range(1,101):\n",
    "    count = 0\n",
    "    for j in range(1, i+1):\n",
    "        if i % j == 0:\n",
    "            count += 1\n",
    "    \n",
    "    if count == 2:\n",
    "        prime_numbers.append(i)\n",
    "\n",
    "# Print the list of prime numbers\n",
    "print(\"Prime numbers are:\", prime_numbers)"
   ]
  },
  {
   "cell_type": "code",
   "execution_count": 59,
   "id": "83a60333",
   "metadata": {},
   "outputs": [
    {
     "name": "stdout",
     "output_type": "stream",
     "text": [
      "1 1\n",
      "1 2\n",
      "1 3\n",
      "2 1\n",
      "2 2\n",
      "2 3\n",
      "3 1\n",
      "3 2\n",
      "3 3\n"
     ]
    }
   ],
   "source": [
    "for i in range(1,4):\n",
    "    for j in range(1,4):\n",
    "        print(i,j, sep = ' ')"
   ]
  },
  {
   "cell_type": "code",
   "execution_count": 60,
   "id": "081c18a5",
   "metadata": {},
   "outputs": [
    {
     "name": "stdout",
     "output_type": "stream",
     "text": [
      "* * * * *  \n",
      "* * * * *  \n",
      "* * * * *  \n",
      "* * * * *  \n",
      "* * * * *  \n"
     ]
    }
   ],
   "source": [
    "# Patterns\n",
    "\n",
    "for i in range(1,6):\n",
    "    for j in range (1,6):\n",
    "        print(\"*\", end = ' ')\n",
    "    print(' ')"
   ]
  },
  {
   "cell_type": "code",
   "execution_count": 65,
   "id": "14c2cedc",
   "metadata": {},
   "outputs": [
    {
     "name": "stdout",
     "output_type": "stream",
     "text": [
      "* * * * *  \n",
      "* * * * *  \n",
      "* * * * *  \n",
      "* * * * *  \n",
      "* * * * *  \n"
     ]
    }
   ],
   "source": [
    "for i in range(1,6):\n",
    "    for j in range (1,6):\n",
    "        i -= j\n",
    "        print(\"*\", end = ' ')\n",
    "    print(' ')"
   ]
  },
  {
   "cell_type": "code",
   "execution_count": 4,
   "id": "da2ca4d1",
   "metadata": {},
   "outputs": [
    {
     "name": "stdout",
     "output_type": "stream",
     "text": [
      " \n",
      "*  \n",
      "* *  \n",
      "* * *  \n",
      "* * * *  \n"
     ]
    }
   ],
   "source": [
    "for i in range(1,6):\n",
    "    for j in range (1,6):\n",
    "        if i > j:\n",
    "            print(\"*\", end = ' ')\n",
    "    print(' ')"
   ]
  },
  {
   "cell_type": "code",
   "execution_count": 1,
   "id": "82871e44",
   "metadata": {},
   "outputs": [
    {
     "name": "stdout",
     "output_type": "stream",
     "text": [
      "*  \n",
      "* *  \n",
      "* * *  \n",
      "* * * *  \n",
      "* * * * *  \n"
     ]
    }
   ],
   "source": [
    "for i in range(1,6):\n",
    "    for j in range (1,6):\n",
    "        if i >= j:\n",
    "            print(\"*\", end = ' ')\n",
    "    print(' ')"
   ]
  },
  {
   "cell_type": "code",
   "execution_count": 7,
   "id": "7364cf5f",
   "metadata": {},
   "outputs": [
    {
     "name": "stdout",
     "output_type": "stream",
     "text": [
      "*  \n",
      "* *  \n",
      "* * *  \n",
      "* * * *  \n",
      "* * * * *  \n"
     ]
    }
   ],
   "source": [
    "for i in range(1,6):\n",
    "    for j in range (1,i+1):\n",
    "        #if i >= j:\n",
    "        print(\"*\", end = ' ')\n",
    "    print(' ')"
   ]
  },
  {
   "cell_type": "code",
   "execution_count": 10,
   "id": "ed08900f",
   "metadata": {},
   "outputs": [
    {
     "name": "stdout",
     "output_type": "stream",
     "text": [
      "* \n",
      "* * \n",
      "* * * \n",
      "* * * * \n",
      "* * * * * \n"
     ]
    }
   ],
   "source": [
    "for i in range(1,6):\n",
    "    print('* ' * i)"
   ]
  },
  {
   "cell_type": "code",
   "execution_count": 6,
   "id": "377f8e65",
   "metadata": {},
   "outputs": [
    {
     "name": "stdout",
     "output_type": "stream",
     "text": [
      "* * * * *  \n",
      "* * * *  \n",
      "* * *  \n",
      "* *  \n",
      "*  \n"
     ]
    }
   ],
   "source": [
    "for i in range(1,6):\n",
    "    for j in range (1,6):\n",
    "        if i <= j:\n",
    "            print(\"*\", end = ' ')\n",
    "    print(' ')"
   ]
  },
  {
   "cell_type": "code",
   "execution_count": 5,
   "id": "c9169914",
   "metadata": {},
   "outputs": [
    {
     "name": "stdout",
     "output_type": "stream",
     "text": [
      "* * * * *  \n",
      "* * * *  \n",
      "* * *  \n",
      "* *  \n",
      "*  \n"
     ]
    }
   ],
   "source": []
  },
  {
   "cell_type": "code",
   "execution_count": null,
   "id": "dd079ad7",
   "metadata": {},
   "outputs": [],
   "source": []
  }
 ],
 "metadata": {
  "kernelspec": {
   "display_name": "Python 3",
   "language": "python",
   "name": "python3"
  },
  "language_info": {
   "codemirror_mode": {
    "name": "ipython",
    "version": 3
   },
   "file_extension": ".py",
   "mimetype": "text/x-python",
   "name": "python",
   "nbconvert_exporter": "python",
   "pygments_lexer": "ipython3",
   "version": "3.10.8"
  }
 },
 "nbformat": 4,
 "nbformat_minor": 5
}
