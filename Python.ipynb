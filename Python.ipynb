{
 "cells": [
  {
   "cell_type": "code",
   "execution_count": 2,
   "id": "b25cb717",
   "metadata": {},
   "outputs": [
    {
     "name": "stdout",
     "output_type": "stream",
     "text": [
      "(0, 1, 2, 3, 4, 5, 6, 7, 8, 9, 10)\n"
     ]
    }
   ],
   "source": [
    "n = tuple(range(11))\n",
    "print(n)"
   ]
  },
  {
   "cell_type": "code",
   "execution_count": 3,
   "id": "0336d140",
   "metadata": {},
   "outputs": [
    {
     "name": "stdout",
     "output_type": "stream",
     "text": [
      "{0, 1, 2, 3, 4, 5, 6, 7, 8, 9, 10}\n"
     ]
    }
   ],
   "source": [
    "n = set(range(11))\n",
    "print(n)"
   ]
  },
  {
   "cell_type": "markdown",
   "id": "22d1dc28",
   "metadata": {},
   "source": [
    "## 5. Files, Exceptions & Errors"
   ]
  },
  {
   "cell_type": "markdown",
   "id": "6c226b77",
   "metadata": {},
   "source": [
    "#### 5.1 Errors Eceptions"
   ]
  },
  {
   "cell_type": "code",
   "execution_count": 107,
   "id": "ea5aa556",
   "metadata": {},
   "outputs": [
    {
     "ename": "SyntaxError",
     "evalue": "expected ':' (4030348264.py, line 5)",
     "output_type": "error",
     "traceback": [
      "\u001b[0;36m  Input \u001b[0;32mIn [107]\u001b[0;36m\u001b[0m\n\u001b[0;31m    else\u001b[0m\n\u001b[0m        ^\u001b[0m\n\u001b[0;31mSyntaxError\u001b[0m\u001b[0;31m:\u001b[0m expected ':'\n"
     ]
    }
   ],
   "source": [
    "# Syntax Error\n",
    "a = 2\n",
    "if a < 1:\n",
    "    print(\"Hello\")\n",
    "else\n",
    "    print(\"Welcome\")"
   ]
  },
  {
   "cell_type": "code",
   "execution_count": 108,
   "id": "3f1680f0",
   "metadata": {},
   "outputs": [
    {
     "ename": "IndentationError",
     "evalue": "expected an indented block after 'else' statement on line 6 (3119501574.py, line 7)",
     "output_type": "error",
     "traceback": [
      "\u001b[0;36m  Input \u001b[0;32mIn [108]\u001b[0;36m\u001b[0m\n\u001b[0;31m    print(\"Welcome\")\u001b[0m\n\u001b[0m    ^\u001b[0m\n\u001b[0;31mIndentationError\u001b[0m\u001b[0;31m:\u001b[0m expected an indented block after 'else' statement on line 6\n"
     ]
    }
   ],
   "source": [
    "# Indentation Error\n",
    "# Syntax Error\n",
    "a = 2\n",
    "if a < 1:\n",
    "    print(\"Hello\")\n",
    "else:\n",
    "print(\"Welcome\")"
   ]
  },
  {
   "cell_type": "code",
   "execution_count": 109,
   "id": "ba77160a",
   "metadata": {},
   "outputs": [
    {
     "ename": "ZeroDivisionError",
     "evalue": "division by zero",
     "output_type": "error",
     "traceback": [
      "\u001b[0;31m---------------------------------------------------------------------------\u001b[0m",
      "\u001b[0;31mZeroDivisionError\u001b[0m                         Traceback (most recent call last)",
      "Input \u001b[0;32mIn [109]\u001b[0m, in \u001b[0;36m<cell line: 2>\u001b[0;34m()\u001b[0m\n\u001b[1;32m      1\u001b[0m \u001b[38;5;66;03m# Zero Division Error\u001b[39;00m\n\u001b[0;32m----> 2\u001b[0m \u001b[38;5;28mprint\u001b[39m(\u001b[38;5;241;43m8\u001b[39;49m\u001b[38;5;241;43m/\u001b[39;49m\u001b[38;5;241;43m0\u001b[39;49m)\n",
      "\u001b[0;31mZeroDivisionError\u001b[0m: division by zero"
     ]
    }
   ],
   "source": [
    "# Zero Division Error\n",
    "print(8/0)"
   ]
  },
  {
   "cell_type": "code",
   "execution_count": 111,
   "id": "b21ef00c",
   "metadata": {},
   "outputs": [
    {
     "name": "stdout",
     "output_type": "stream",
     "text": [
      "3.141592653589793\n"
     ]
    }
   ],
   "source": [
    "# Module Error\n",
    "import math\n",
    "print(math.pi)"
   ]
  },
  {
   "cell_type": "code",
   "execution_count": 112,
   "id": "7adab3f9",
   "metadata": {},
   "outputs": [
    {
     "ename": "ModuleNotFoundError",
     "evalue": "No module named 'mathmatics'",
     "output_type": "error",
     "traceback": [
      "\u001b[0;31m---------------------------------------------------------------------------\u001b[0m",
      "\u001b[0;31mModuleNotFoundError\u001b[0m                       Traceback (most recent call last)",
      "Input \u001b[0;32mIn [112]\u001b[0m, in \u001b[0;36m<cell line: 1>\u001b[0;34m()\u001b[0m\n\u001b[0;32m----> 1\u001b[0m \u001b[38;5;28;01mimport\u001b[39;00m \u001b[38;5;21;01mmathmatics\u001b[39;00m\n\u001b[1;32m      2\u001b[0m \u001b[38;5;28mprint\u001b[39m(mathmatics\u001b[38;5;241m.\u001b[39mpi)\n",
      "\u001b[0;31mModuleNotFoundError\u001b[0m: No module named 'mathmatics'"
     ]
    }
   ],
   "source": [
    "import mathmatics\n",
    "print(mathmatics.pi)"
   ]
  },
  {
   "cell_type": "code",
   "execution_count": null,
   "id": "7f9eff7a",
   "metadata": {},
   "outputs": [
    {
     "ename": "TypeError",
     "evalue": "unsupported operand type(s) for +: 'int' and 'str'",
     "output_type": "error",
     "traceback": [
      "\u001b[0;31m---------------------------------------------------------------------------\u001b[0m",
      "\u001b[0;31mTypeError\u001b[0m                                 Traceback (most recent call last)",
      "Input \u001b[0;32mIn [113]\u001b[0m, in \u001b[0;36m<cell line: 3>\u001b[0;34m()\u001b[0m\n\u001b[1;32m      1\u001b[0m a \u001b[38;5;241m=\u001b[39m \u001b[38;5;241m5\u001b[39m\n\u001b[1;32m      2\u001b[0m b \u001b[38;5;241m=\u001b[39m \u001b[38;5;124m'\u001b[39m\u001b[38;5;124m5\u001b[39m\u001b[38;5;124m'\u001b[39m\n\u001b[0;32m----> 3\u001b[0m \u001b[38;5;28mprint\u001b[39m(\u001b[43ma\u001b[49m\u001b[38;5;241;43m+\u001b[39;49m\u001b[43mb\u001b[49m)\n",
      "\u001b[0;31mTypeError\u001b[0m: unsupported operand type(s) for +: 'int' and 'str'"
     ]
    }
   ],
   "source": [
    "# Type Error\n",
    "a = 5\n",
    "b = '5'\n",
    "print(a+b)"
   ]
  },
  {
   "cell_type": "code",
   "execution_count": 114,
   "id": "c1c5921f",
   "metadata": {},
   "outputs": [
    {
     "ename": "TypeError",
     "evalue": "'int' object is not callable",
     "output_type": "error",
     "traceback": [
      "\u001b[0;31m---------------------------------------------------------------------------\u001b[0m",
      "\u001b[0;31mTypeError\u001b[0m                                 Traceback (most recent call last)",
      "Input \u001b[0;32mIn [114]\u001b[0m, in \u001b[0;36m<cell line: 3>\u001b[0;34m()\u001b[0m\n\u001b[1;32m      1\u001b[0m \u001b[38;5;66;03m# Lgic Error\u001b[39;00m\n\u001b[1;32m      2\u001b[0m numbers \u001b[38;5;241m=\u001b[39m [\u001b[38;5;241m10\u001b[39m, \u001b[38;5;241m20\u001b[39m, \u001b[38;5;241m30\u001b[39m]\n\u001b[0;32m----> 3\u001b[0m average \u001b[38;5;241m=\u001b[39m \u001b[38;5;28;43msum\u001b[39;49m\u001b[43m(\u001b[49m\u001b[43mnumbers\u001b[49m\u001b[43m)\u001b[49m \u001b[38;5;241m/\u001b[39m \u001b[38;5;28mlen\u001b[39m(numbers) \u001b[38;5;241m+\u001b[39m \u001b[38;5;241m1\u001b[39m  \u001b[38;5;66;03m# Logic error here\u001b[39;00m\n\u001b[1;32m      4\u001b[0m \u001b[38;5;28mprint\u001b[39m(\u001b[38;5;124m\"\u001b[39m\u001b[38;5;124mAverage:\u001b[39m\u001b[38;5;124m\"\u001b[39m, average)\n",
      "\u001b[0;31mTypeError\u001b[0m: 'int' object is not callable"
     ]
    }
   ],
   "source": [
    "# Lgic Error\n",
    "numbers = [10, 20, 30]\n",
    "average = sum(numbers) / len(numbers) + 1  # Logic error here\n",
    "print(\"Average:\", average)"
   ]
  },
  {
   "cell_type": "markdown",
   "id": "d0d05b92",
   "metadata": {},
   "source": [
    "##### 5.2 Exceptional Handling"
   ]
  },
  {
   "cell_type": "code",
   "execution_count": 116,
   "id": "27767ab1",
   "metadata": {},
   "outputs": [
    {
     "name": "stdout",
     "output_type": "stream",
     "text": [
      "There's an error\n",
      "Continue with the code\n"
     ]
    }
   ],
   "source": [
    "try:\n",
    "    a = 2\n",
    "    b = 0\n",
    "    print(a/b)\n",
    "except ZeroDivisionError:\n",
    "    print(\"There's an error\")\n",
    "finally:\n",
    "    print(\"Continue with the code\")"
   ]
  },
  {
   "cell_type": "markdown",
   "id": "c6d023a2",
   "metadata": {},
   "source": [
    "#### 5.3 File Handling\n",
    "\n",
    "Opening a File: You use the open() function to open a file in a specific mode.\n",
    "\n",
    "File Modes:\n",
    "\n",
    "'r': Read (default mode). Opens a file for reading.\n",
    "\n",
    "'w': Write. Creates a new file or overwrites an existing file.\n",
    "\n",
    "'a': Append. Adds data to the end of the file.\n",
    "\n",
    "'b': Binary mode. Used with other modes like 'rb' or 'wb' for binary files (e.g., images).\n",
    "\n",
    "'x': Exclusive creation. Fails if the file exists.\n",
    "\n",
    "'t': Text mode (default, no need to specify).\n",
    "\n",
    "Closing a File: After finishing file operations, it’s important to close the file using close().\n",
    "\n",
    "Context Manager (with statement): A cleaner way to open and close files automatically, without worrying about closing the file manually."
   ]
  },
  {
   "cell_type": "code",
   "execution_count": 122,
   "id": "89e7f127",
   "metadata": {},
   "outputs": [
    {
     "name": "stdout",
     "output_type": "stream",
     "text": [
      "This is a sample text file.\n",
      "It contain multiple lines.\n"
     ]
    }
   ],
   "source": [
    "# 1. Opening and Reading Files\n",
    "# Opening a file in read mode ('r')\n",
    "file = open('sample.txt', 'r')\n",
    "\n",
    "# Reading the content of the file\n",
    "content = file.read()  # Reads the entire file\n",
    "print(content)\n",
    "\n",
    "# Closing the file after use\n",
    "file.close()"
   ]
  },
  {
   "cell_type": "code",
   "execution_count": null,
   "id": "95c22182",
   "metadata": {},
   "outputs": [
    {
     "name": "stdout",
     "output_type": "stream",
     "text": [
      "This is a sample text file.\n",
      "It contain multiple lines.\n"
     ]
    }
   ],
   "source": [
    "# 2. Using with Statement (Context Manager)\n",
    "# A cleaner and safer way to handle files\n",
    "with open('sample.txt', 'r') as file:\n",
    "    content = file.read()\n",
    "    print(content)\n",
    "# No need to call file.close() as it's done automatically."
   ]
  },
  {
   "cell_type": "code",
   "execution_count": 123,
   "id": "22eee412",
   "metadata": {},
   "outputs": [],
   "source": [
    "# 3. Writing to Files\n",
    "# Writing to a file (overwrites if the file exists)\n",
    "with open('output.txt', 'w') as file:\n",
    "    file.write(\"Hello, world!\\nThis is Python file handling.\")\n",
    "\n",
    "# Appending to a file (keeps existing content)\n",
    "with open('output.txt', 'a') as file:\n",
    "    file.write(\"\\nAppended text.\")\n"
   ]
  },
  {
   "cell_type": "code",
   "execution_count": null,
   "id": "b82a1aa6",
   "metadata": {},
   "outputs": [],
   "source": []
  },
  {
   "cell_type": "markdown",
   "id": "b679f889",
   "metadata": {},
   "source": [
    "## 6. Data Structures & Strings"
   ]
  },
  {
   "cell_type": "code",
   "execution_count": 14,
   "id": "5bfff1b6",
   "metadata": {},
   "outputs": [],
   "source": [
    "# Dictionary\n",
    "\n",
    "dict = {'a':'apple', 'b':'ball', 'c':'cat', 'd':'dog'}"
   ]
  },
  {
   "cell_type": "code",
   "execution_count": 15,
   "id": "ee4899cd",
   "metadata": {},
   "outputs": [
    {
     "name": "stdout",
     "output_type": "stream",
     "text": [
      "{'a': 'apple', 'b': 'ball', 'c': 'cat', 'd': 'dog', 'e': 'elephant'}\n"
     ]
    }
   ],
   "source": [
    "dict['e'] = 'elephant'\n",
    "print(dict)"
   ]
  },
  {
   "cell_type": "code",
   "execution_count": 16,
   "id": "32fcb24d",
   "metadata": {},
   "outputs": [
    {
     "name": "stdout",
     "output_type": "stream",
     "text": [
      "{'a': 'apple', 'b': 'ball', 'd': 'dog', 'e': 'elephant'}\n"
     ]
    }
   ],
   "source": [
    "del(dict['c'])\n",
    "print(dict)"
   ]
  },
  {
   "cell_type": "code",
   "execution_count": 10,
   "id": "dd3c66b6",
   "metadata": {},
   "outputs": [
    {
     "name": "stdout",
     "output_type": "stream",
     "text": [
      "['Mike', 10.1, 1980, 10, 12, 9]\n"
     ]
    }
   ],
   "source": [
    "# Lists\n",
    "\n",
    "l = ['Mike', 10.1, 1980, 10, 12]\n",
    "\n",
    "l.append(9)\n",
    "print(l)"
   ]
  },
  {
   "cell_type": "code",
   "execution_count": 3,
   "id": "f8817a69",
   "metadata": {},
   "outputs": [
    {
     "name": "stdout",
     "output_type": "stream",
     "text": [
      "['Mike', 10.1, 1980, 10, 12, 9, 11, 12, 13]\n"
     ]
    }
   ],
   "source": [
    "l.extend([11,12,13])\n",
    "print(l)"
   ]
  },
  {
   "cell_type": "code",
   "execution_count": 4,
   "id": "f6ef3e1e",
   "metadata": {},
   "outputs": [
    {
     "name": "stdout",
     "output_type": "stream",
     "text": [
      "['Mike', 10.1, 1980, 10, 9, 11, 12, 13]\n"
     ]
    }
   ],
   "source": [
    "l.remove(12)\n",
    "print(l)"
   ]
  },
  {
   "cell_type": "code",
   "execution_count": 7,
   "id": "844887d4",
   "metadata": {},
   "outputs": [
    {
     "name": "stdout",
     "output_type": "stream",
     "text": [
      "[1980, 10, 9, 11, 12, 13]\n"
     ]
    }
   ],
   "source": [
    "del l[0:2]\n",
    "print(l)"
   ]
  },
  {
   "cell_type": "code",
   "execution_count": 11,
   "id": "9407c22b",
   "metadata": {},
   "outputs": [
    {
     "name": "stdout",
     "output_type": "stream",
     "text": [
      "['Mike', 10.1, 10, 12, 9]\n"
     ]
    }
   ],
   "source": [
    "l.pop(2)\n",
    "print(l)"
   ]
  },
  {
   "cell_type": "code",
   "execution_count": 12,
   "id": "57923c29",
   "metadata": {},
   "outputs": [
    {
     "name": "stdout",
     "output_type": "stream",
     "text": [
      "['Mike', 10.1, 'pop', 10, 12, 9]\n"
     ]
    }
   ],
   "source": [
    "l.insert(2, 'pop')\n",
    "print(l)"
   ]
  },
  {
   "cell_type": "code",
   "execution_count": 9,
   "id": "b7f0679c",
   "metadata": {},
   "outputs": [
    {
     "name": "stdout",
     "output_type": "stream",
     "text": [
      "[]\n"
     ]
    }
   ],
   "source": [
    "l.clear()\n",
    "print(l)"
   ]
  },
  {
   "cell_type": "code",
   "execution_count": 13,
   "id": "15a86345",
   "metadata": {},
   "outputs": [
    {
     "name": "stdout",
     "output_type": "stream",
     "text": [
      "[0, 1, 4, 9, 16, 25, 36, 49, 64, 81, 100]\n"
     ]
    }
   ],
   "source": [
    "# List Comprehension\n",
    "\n",
    "x =[]\n",
    "for i in range(11):\n",
    "    z = i ** 2\n",
    "    x.append(z)\n",
    "print(x)"
   ]
  },
  {
   "cell_type": "code",
   "execution_count": 14,
   "id": "051f1f38",
   "metadata": {},
   "outputs": [
    {
     "name": "stdout",
     "output_type": "stream",
     "text": [
      "[0, 1, 4, 9, 16, 25, 36, 49, 64, 81, 100]\n"
     ]
    }
   ],
   "source": [
    "x = [i ** 2 for i in range(11)]\n",
    "print(x)"
   ]
  },
  {
   "cell_type": "code",
   "execution_count": 15,
   "id": "b8d7ed3b",
   "metadata": {},
   "outputs": [
    {
     "name": "stdout",
     "output_type": "stream",
     "text": [
      "[0, 4, 16, 36, 64, 100]\n"
     ]
    }
   ],
   "source": [
    "x =[]\n",
    "for i in range(11):\n",
    "    if i % 2 == 0:\n",
    "        z = i ** 2\n",
    "        x.append(z)\n",
    "print(x)"
   ]
  },
  {
   "cell_type": "code",
   "execution_count": 2,
   "id": "f6c1df55",
   "metadata": {},
   "outputs": [],
   "source": [
    "# Set\n",
    "\n",
    "set_1 = {1,2,3,4,5,}\n",
    "set_2 = {2,3,5,7}"
   ]
  },
  {
   "cell_type": "code",
   "execution_count": 6,
   "id": "49aecbe5",
   "metadata": {},
   "outputs": [
    {
     "name": "stdout",
     "output_type": "stream",
     "text": [
      "{1, 2, 3, 4, 5, 6}\n"
     ]
    }
   ],
   "source": [
    "set_1.add(6)\n",
    "print(set_1)"
   ]
  },
  {
   "cell_type": "code",
   "execution_count": 7,
   "id": "1001e769",
   "metadata": {},
   "outputs": [
    {
     "name": "stdout",
     "output_type": "stream",
     "text": [
      "{1, 2, 3, 4, 5}\n"
     ]
    }
   ],
   "source": [
    "set_1.remove(6)\n",
    "print(set_1)"
   ]
  },
  {
   "cell_type": "code",
   "execution_count": 3,
   "id": "57575cca",
   "metadata": {},
   "outputs": [
    {
     "name": "stdout",
     "output_type": "stream",
     "text": [
      "{2, 3, 5}\n"
     ]
    }
   ],
   "source": [
    "print(set_1 & set_2)"
   ]
  },
  {
   "cell_type": "code",
   "execution_count": 4,
   "id": "5b79604e",
   "metadata": {},
   "outputs": [
    {
     "name": "stdout",
     "output_type": "stream",
     "text": [
      "{1, 2, 3, 4, 5, 7}\n"
     ]
    }
   ],
   "source": [
    "print(set_1.union(set_2))"
   ]
  },
  {
   "cell_type": "code",
   "execution_count": 8,
   "id": "ec695dab",
   "metadata": {},
   "outputs": [],
   "source": [
    "# Strings\n",
    "\n",
    "a = 'sameeR'"
   ]
  },
  {
   "cell_type": "code",
   "execution_count": 9,
   "id": "384e4ca1",
   "metadata": {},
   "outputs": [
    {
     "name": "stdout",
     "output_type": "stream",
     "text": [
      "Sameer\n"
     ]
    }
   ],
   "source": [
    "print(a.capitalize())"
   ]
  },
  {
   "cell_type": "code",
   "execution_count": 10,
   "id": "bcad7028",
   "metadata": {},
   "outputs": [
    {
     "name": "stdout",
     "output_type": "stream",
     "text": [
      "SAMEER\n"
     ]
    }
   ],
   "source": [
    "print(a.upper())"
   ]
  },
  {
   "cell_type": "code",
   "execution_count": 11,
   "id": "8695fd5e",
   "metadata": {},
   "outputs": [
    {
     "name": "stdout",
     "output_type": "stream",
     "text": [
      "sameer\n"
     ]
    }
   ],
   "source": [
    "print(a.lower())"
   ]
  },
  {
   "cell_type": "code",
   "execution_count": 12,
   "id": "fc7005de",
   "metadata": {},
   "outputs": [],
   "source": [
    "b = \"Mike is a good boy.\""
   ]
  },
  {
   "cell_type": "code",
   "execution_count": 14,
   "id": "76aa64c5",
   "metadata": {},
   "outputs": [
    {
     "name": "stdout",
     "output_type": "stream",
     "text": [
      "True\n"
     ]
    }
   ],
   "source": [
    "print(b.startswith('Mike'))"
   ]
  },
  {
   "cell_type": "code",
   "execution_count": 15,
   "id": "300c9002",
   "metadata": {},
   "outputs": [
    {
     "name": "stdout",
     "output_type": "stream",
     "text": [
      "False\n"
     ]
    }
   ],
   "source": [
    "print(b.startswith('mike'))"
   ]
  },
  {
   "cell_type": "code",
   "execution_count": 17,
   "id": "29cdb4e2",
   "metadata": {},
   "outputs": [
    {
     "name": "stdout",
     "output_type": "stream",
     "text": [
      "True\n"
     ]
    }
   ],
   "source": [
    "print(b.endswith('boy.'))"
   ]
  },
  {
   "cell_type": "code",
   "execution_count": 18,
   "id": "646aedd1",
   "metadata": {},
   "outputs": [
    {
     "name": "stdout",
     "output_type": "stream",
     "text": [
      "Nick is a good boy.\n"
     ]
    }
   ],
   "source": [
    "print(b.replace('Mike','Nick'))"
   ]
  },
  {
   "cell_type": "code",
   "execution_count": 19,
   "id": "8801cfd8",
   "metadata": {},
   "outputs": [],
   "source": [
    "c = \"   Mike is a good boy.\""
   ]
  },
  {
   "cell_type": "code",
   "execution_count": 20,
   "id": "a32451dc",
   "metadata": {},
   "outputs": [
    {
     "name": "stdout",
     "output_type": "stream",
     "text": [
      "Mike is a good boy.\n"
     ]
    }
   ],
   "source": [
    "print(c.lstrip())"
   ]
  },
  {
   "cell_type": "code",
   "execution_count": 21,
   "id": "2dfb5a10",
   "metadata": {},
   "outputs": [
    {
     "name": "stdout",
     "output_type": "stream",
     "text": [
      "['Mike', 'is', 'a', 'good', 'boy.']\n"
     ]
    }
   ],
   "source": [
    "print(c.split())"
   ]
  },
  {
   "cell_type": "code",
   "execution_count": 22,
   "id": "3a4a77fe",
   "metadata": {},
   "outputs": [
    {
     "name": "stdout",
     "output_type": "stream",
     "text": [
      "['   Mike is a good boy.']\n"
     ]
    }
   ],
   "source": [
    "print(c.splitlines())"
   ]
  },
  {
   "cell_type": "code",
   "execution_count": 25,
   "id": "65cab0ce",
   "metadata": {},
   "outputs": [
    {
     "name": "stdout",
     "output_type": "stream",
     "text": [
      "('Mike', 'Nick')\n"
     ]
    }
   ],
   "source": [
    "d = 'Mike', 'Nick'\n",
    "e = ','\n",
    "print(d)"
   ]
  },
  {
   "cell_type": "code",
   "execution_count": 27,
   "id": "49d1a5a8",
   "metadata": {},
   "outputs": [
    {
     "name": "stdout",
     "output_type": "stream",
     "text": [
      "Mike,Nick\n"
     ]
    }
   ],
   "source": [
    "print(e.join(d))"
   ]
  },
  {
   "cell_type": "code",
   "execution_count": 1,
   "id": "b0c39585",
   "metadata": {},
   "outputs": [
    {
     "name": "stdout",
     "output_type": "stream",
     "text": [
      "12\n"
     ]
    }
   ],
   "source": [
    "name = 'Mike'\n",
    "number = len(name)*3\n",
    "print(number)"
   ]
  },
  {
   "cell_type": "code",
   "execution_count": 4,
   "id": "3f39c5f9",
   "metadata": {},
   "outputs": [
    {
     "name": "stdout",
     "output_type": "stream",
     "text": [
      "Hello Mike, your lucky number is 12.\n"
     ]
    }
   ],
   "source": [
    "print(\"Hello {}, your lucky number is {}.\".format(name,number))"
   ]
  },
  {
   "cell_type": "code",
   "execution_count": 6,
   "id": "27b545e5",
   "metadata": {},
   "outputs": [
    {
     "name": "stdout",
     "output_type": "stream",
     "text": [
      "This is an example of format() method on a string.\n"
     ]
    }
   ],
   "source": [
    "example = \"format() method\"\n",
    "string = \"This is an example of {} on a string.\".format(example)\n",
    "print(string)"
   ]
  },
  {
   "cell_type": "code",
   "execution_count": 10,
   "id": "d80a4588",
   "metadata": {},
   "outputs": [
    {
     "name": "stdout",
     "output_type": "stream",
     "text": [
      "apple banana cat\n"
     ]
    }
   ],
   "source": [
    "first = 'apple'\n",
    "second = 'banana'\n",
    "third = 'cat'\n",
    "\n",
    "string = \"{} {} {}\".format(first, second, third)\n",
    "print(string)"
   ]
  },
  {
   "cell_type": "code",
   "execution_count": 11,
   "id": "48144d7a",
   "metadata": {},
   "outputs": [
    {
     "name": "stdout",
     "output_type": "stream",
     "text": [
      "apple cat banana\n"
     ]
    }
   ],
   "source": [
    "string = \"{0} {2} {1}\".format(first, second, third)\n",
    "print(string)"
   ]
  },
  {
   "cell_type": "code",
   "execution_count": 13,
   "id": "5d0e2c45",
   "metadata": {},
   "outputs": [
    {
     "name": "stdout",
     "output_type": "stream",
     "text": [
      "150 200\n"
     ]
    }
   ],
   "source": [
    "price = 150\n",
    "with_tax = 150+50\n",
    "print(price, with_tax)"
   ]
  },
  {
   "cell_type": "code",
   "execution_count": 14,
   "id": "905d8eaf",
   "metadata": {},
   "outputs": [
    {
     "name": "stdout",
     "output_type": "stream",
     "text": [
      "Price: Rs150.00. With Tax : Rs200.00\n"
     ]
    }
   ],
   "source": [
    "print(\"Price: Rs{:.2f}. With Tax : Rs{:.2f}\".format(price, with_tax))"
   ]
  },
  {
   "cell_type": "code",
   "execution_count": null,
   "id": "089f1716",
   "metadata": {},
   "outputs": [],
   "source": [
    "# Tuple\n",
    "\n"
   ]
  },
  {
   "cell_type": "markdown",
   "id": "f2c16eec",
   "metadata": {},
   "source": [
    "# 7. Functional Programming"
   ]
  },
  {
   "cell_type": "code",
   "execution_count": 124,
   "id": "0cd273e6",
   "metadata": {},
   "outputs": [
    {
     "name": "stdout",
     "output_type": "stream",
     "text": [
      "3\n"
     ]
    }
   ],
   "source": [
    "def add(i,j):\n",
    "    return i+j\n",
    "\n",
    "res = add(1,2)\n",
    "print(res)"
   ]
  },
  {
   "cell_type": "code",
   "execution_count": 126,
   "id": "6e9a67e2",
   "metadata": {},
   "outputs": [
    {
     "name": "stdout",
     "output_type": "stream",
     "text": [
      "3\n"
     ]
    }
   ],
   "source": [
    "def add(i,j):\n",
    "    return i+j\n",
    "\n",
    "a = add\n",
    "\n",
    "res = a(1,2)\n",
    "print(res)"
   ]
  },
  {
   "cell_type": "code",
   "execution_count": 125,
   "id": "79e60caf",
   "metadata": {},
   "outputs": [
    {
     "name": "stdout",
     "output_type": "stream",
     "text": [
      "3\n"
     ]
    }
   ],
   "source": [
    "def add(i,j):\n",
    "    return i+j\n",
    "\n",
    "def call(i,j):\n",
    "    return add(i,j)\n",
    "\n",
    "res = call(1,2)\n",
    "print(res)"
   ]
  },
  {
   "cell_type": "code",
   "execution_count": null,
   "id": "d94391d6",
   "metadata": {},
   "outputs": [],
   "source": []
  },
  {
   "cell_type": "code",
   "execution_count": null,
   "id": "9f613fd9",
   "metadata": {},
   "outputs": [],
   "source": []
  },
  {
   "cell_type": "code",
   "execution_count": null,
   "id": "573958a4",
   "metadata": {},
   "outputs": [],
   "source": []
  },
  {
   "cell_type": "code",
   "execution_count": null,
   "id": "d7db2479",
   "metadata": {},
   "outputs": [],
   "source": []
  },
  {
   "cell_type": "code",
   "execution_count": null,
   "id": "c47d1003",
   "metadata": {},
   "outputs": [],
   "source": []
  },
  {
   "cell_type": "code",
   "execution_count": null,
   "id": "4a1c9bb8",
   "metadata": {},
   "outputs": [
    {
     "name": "stdout",
     "output_type": "stream",
     "text": [
      "The sum of numbers from 1 to 50 is: 1275\n"
     ]
    }
   ],
   "source": [
    "sum = 0\n",
    "\n",
    "for i in range(1,51):\n",
    "    sum += i\n",
    "print(\"The sum of numbers from 1 to 50 is:\", sum)"
   ]
  },
  {
   "cell_type": "code",
   "execution_count": 70,
   "id": "ce60a6c8",
   "metadata": {},
   "outputs": [
    {
     "name": "stdout",
     "output_type": "stream",
     "text": [
      "10\n"
     ]
    }
   ],
   "source": [
    "even_count = 0\n",
    "\n",
    "for number in range(1,21):\n",
    "    if number % 2 == 0:\n",
    "        even_count += 1\n",
    "print(even_count)"
   ]
  },
  {
   "cell_type": "code",
   "execution_count": 71,
   "id": "54356d0f",
   "metadata": {},
   "outputs": [
    {
     "name": "stdout",
     "output_type": "stream",
     "text": [
      "2500\n"
     ]
    }
   ],
   "source": [
    "odd_sum = 0\n",
    "\n",
    "for number in range(1,101):\n",
    "    if number % 2 != 0:\n",
    "        odd_sum += number\n",
    "print(odd_sum)\n",
    "    "
   ]
  },
  {
   "cell_type": "code",
   "execution_count": 75,
   "id": "81719fd6",
   "metadata": {},
   "outputs": [
    {
     "name": "stdout",
     "output_type": "stream",
     "text": [
      "event_sum 2550 odd_sum 2500\n",
      "2550 event_sum is larger\n"
     ]
    }
   ],
   "source": [
    "even_sum = 0\n",
    "odd_sum = 0\n",
    "\n",
    "\n",
    "for number in range(1,101):\n",
    "    if number % 2 == 0:\n",
    "        even_sum += number\n",
    "    else:\n",
    "        odd_sum += number\n",
    "\n",
    "print('event_sum', even_sum, 'odd_sum', odd_sum)\n",
    "\n",
    "if even_sum > odd_sum:\n",
    "    print(even_sum, 'event_sum is larger')\n",
    "elif even_sum < odd_sum:\n",
    "    print(odd_sum, 'odd_sum is larger')\n",
    "else:\n",
    "    print('Both are equal')"
   ]
  },
  {
   "cell_type": "code",
   "execution_count": 86,
   "id": "3cceceb0",
   "metadata": {},
   "outputs": [
    {
     "name": "stdout",
     "output_type": "stream",
     "text": [
      "The list of numbers [4, 4, 4, 4, 4, 4, 4, 4, 4, 4]\n",
      "The sum of even numbers 2860\n",
      "The sum of odd numbers 3537\n",
      "Odd numbers are larger 3537\n"
     ]
    }
   ],
   "source": [
    "numbers = []  # Create an empty list to store the numbers\n",
    "\n",
    "for i in range(10):  # Loop 10 times\n",
    "    user_input = input(f\"Enter number {i + 1}: \")  # Ask user\n",
    "    number = int(user_input)  # Convert input from string to integer\n",
    "    numbers.append(number)  # Add the number to the list\n",
    "\n",
    "print(\"The list of numbers\", numbers)\n",
    "\n",
    "for i in numbers:\n",
    "    if number % 2 == 0:\n",
    "        even_sum += i\n",
    "    else:\n",
    "        odd_sum += i\n",
    "        \n",
    "print(\"The sum of even numbers\", even_sum)\n",
    "print(\"The sum of odd numbers\", odd_sum)\n",
    "if even_sum > odd_sum:\n",
    "    print('Even numbers are larger', even_sum)\n",
    "elif even_sum < odd_sum:\n",
    "    print('Odd numbers are larger', odd_sum)\n",
    "else:\n",
    "    print('Both are equal')"
   ]
  },
  {
   "cell_type": "code",
   "execution_count": null,
   "id": "2a449997",
   "metadata": {},
   "outputs": [
    {
     "name": "stdout",
     "output_type": "stream",
     "text": [
      "Count:  4\n",
      "Total 90\n",
      "Evens [12, 18, 22, 8]\n"
     ]
    }
   ],
   "source": []
  },
  {
   "cell_type": "code",
   "execution_count": null,
   "id": "a7f055e8",
   "metadata": {},
   "outputs": [],
   "source": []
  },
  {
   "cell_type": "markdown",
   "id": "ee61e340",
   "metadata": {},
   "source": [
    "# 8. OOP"
   ]
  },
  {
   "cell_type": "code",
   "execution_count": 4,
   "id": "9375069d",
   "metadata": {},
   "outputs": [
    {
     "name": "stdout",
     "output_type": "stream",
     "text": [
      "Hi Sam\n"
     ]
    }
   ],
   "source": [
    "class name:\n",
    "    x = 0\n",
    "    name = \"\"\n",
    "\n",
    "    def __init__(self,z):\n",
    "        self.name = z\n",
    "        print(\"Hi\", z)\n",
    "        \n",
    "n = name(\"Sam\")"
   ]
  },
  {
   "cell_type": "code",
   "execution_count": 6,
   "id": "2ea87e44",
   "metadata": {},
   "outputs": [
    {
     "name": "stdout",
     "output_type": "stream",
     "text": [
      "Hi Sam\n",
      "Hi Ayaz\n",
      "Ayaz scores\n"
     ]
    }
   ],
   "source": [
    "class name:\n",
    "    x = 0\n",
    "    name = \"\"\n",
    "\n",
    "    def __init__(self,z):\n",
    "        self.name = z\n",
    "        print(\"Hi\", z)\n",
    "        \n",
    "class football_fans(name):\n",
    "    points = 0\n",
    "    \n",
    "    def pts(self):\n",
    "        print(self.name,\"scores\")\n",
    "        \n",
    "n = name(\"Sam\")\n",
    "f = football_fans(\"Ayaz\")\n",
    "f.pts()\n",
    "    "
   ]
  },
  {
   "cell_type": "code",
   "execution_count": null,
   "id": "9d8b2e9d",
   "metadata": {},
   "outputs": [],
   "source": [
    "# Single Level Inheritance\n",
    "class A:\n",
    "    \n",
    "    def state_1(self):\n",
    "        print(\"state_1 present\")\n",
    "        \n",
    "    def state_2(self):\n",
    "        print(\"state_2 present\")\n",
    "\n",
    "    def state_3(self):\n",
    "        print(\"state_3 present\")\n",
    "        \n",
    "class B:\n",
    "    \n",
    "    def state_4(self):\n",
    "        print(\"state_4 present\")\n",
    "        \n",
    "    def state_5(self):\n",
    "        print(\"state_5 present\")"
   ]
  },
  {
   "cell_type": "code",
   "execution_count": 8,
   "id": "481b6e05",
   "metadata": {},
   "outputs": [
    {
     "name": "stdout",
     "output_type": "stream",
     "text": [
      "state_1 present\n",
      "state_2 present\n"
     ]
    }
   ],
   "source": [
    "a = A()\n",
    "a.state_1()\n",
    "a.state_2()"
   ]
  },
  {
   "cell_type": "code",
   "execution_count": 10,
   "id": "4249b272",
   "metadata": {},
   "outputs": [
    {
     "name": "stdout",
     "output_type": "stream",
     "text": [
      "state_4 present\n",
      "state_5 present\n"
     ]
    }
   ],
   "source": [
    "b = B()\n",
    "b.state_4()\n",
    "b.state_5()"
   ]
  },
  {
   "cell_type": "code",
   "execution_count": 11,
   "id": "dcc09151",
   "metadata": {},
   "outputs": [],
   "source": [
    "class B(A):\n",
    "    \n",
    "    def state_4(self):\n",
    "        print(\"state_4 present\")\n",
    "        \n",
    "    def state_5(self):\n",
    "        print(\"state_5 present\")"
   ]
  },
  {
   "cell_type": "code",
   "execution_count": 12,
   "id": "468af40e",
   "metadata": {},
   "outputs": [
    {
     "name": "stdout",
     "output_type": "stream",
     "text": [
      "state_1 present\n",
      "state_2 present\n",
      "state_4 present\n"
     ]
    }
   ],
   "source": [
    "b = B()\n",
    "b.state_1()\n",
    "b.state_2()\n",
    "b.state_4()"
   ]
  },
  {
   "cell_type": "code",
   "execution_count": 29,
   "id": "3c07eb9e",
   "metadata": {},
   "outputs": [],
   "source": [
    "# Multi Level Inheritance\n",
    "\n",
    "class C(B):\n",
    "    \n",
    "    def state_6(self):\n",
    "        print(\"state_6 present\")\n",
    "        \n",
    "    def state_7(self):\n",
    "        print(\"state_7 present\")"
   ]
  },
  {
   "cell_type": "code",
   "execution_count": 18,
   "id": "91591935",
   "metadata": {},
   "outputs": [
    {
     "name": "stdout",
     "output_type": "stream",
     "text": [
      "state_1 present\n",
      "state_4 present\n",
      "state_7 present\n"
     ]
    }
   ],
   "source": [
    "c = C()\n",
    "c.state_1()\n",
    "c.state_4()\n",
    "c.state_6()"
   ]
  },
  {
   "cell_type": "code",
   "execution_count": 30,
   "id": "6e8f4687",
   "metadata": {},
   "outputs": [],
   "source": [
    "# Multiple Inheritance\n",
    "\n",
    "class C():\n",
    "    \n",
    "    def state_6(self):\n",
    "        print(\"state_6 present\")\n",
    "        \n",
    "    def state_7(self):\n",
    "        print(\"state_7 present\")\n",
    "\n",
    "class D(A,C):\n",
    "    \n",
    "    def state_8(self):\n",
    "        print(\"state_8 present\")"
   ]
  },
  {
   "cell_type": "code",
   "execution_count": 31,
   "id": "80f8aa16",
   "metadata": {},
   "outputs": [
    {
     "name": "stdout",
     "output_type": "stream",
     "text": [
      "state_1 present\n",
      "state_7 present\n",
      "state_1 present\n",
      "state_7 present\n"
     ]
    }
   ],
   "source": [
    "a = A()\n",
    "a.state_1()\n",
    "\n",
    "c = C()\n",
    "c.state_7()\n",
    "\n",
    "d = D()\n",
    "d.state_1()\n",
    "d.state_7()"
   ]
  },
  {
   "cell_type": "markdown",
   "id": "1b149261",
   "metadata": {},
   "source": [
    "# 9. Regular Expressions"
   ]
  },
  {
   "cell_type": "code",
   "execution_count": 2,
   "id": "58678d12",
   "metadata": {},
   "outputs": [
    {
     "name": "stdout",
     "output_type": "stream",
     "text": [
      "True\n"
     ]
    }
   ],
   "source": [
    "import re\n",
    "\n",
    "pattern = \"apple\"\n",
    "if re.match(pattern,\"apple\"):\n",
    "    print(\"True\")\n",
    "else:\n",
    "    (\"False\")"
   ]
  },
  {
   "cell_type": "code",
   "execution_count": null,
   "id": "c2682c06",
   "metadata": {},
   "outputs": [],
   "source": []
  }
 ],
 "metadata": {
  "kernelspec": {
   "display_name": "Python 3",
   "language": "python",
   "name": "python3"
  },
  "language_info": {
   "codemirror_mode": {
    "name": "ipython",
    "version": 3
   },
   "file_extension": ".py",
   "mimetype": "text/x-python",
   "name": "python",
   "nbconvert_exporter": "python",
   "pygments_lexer": "ipython3",
   "version": "3.10.8"
  }
 },
 "nbformat": 4,
 "nbformat_minor": 5
}
