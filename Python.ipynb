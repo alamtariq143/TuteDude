{
 "cells": [
  {
   "cell_type": "code",
   "execution_count": 2,
   "id": "b25cb717",
   "metadata": {},
   "outputs": [
    {
     "name": "stdout",
     "output_type": "stream",
     "text": [
      "(0, 1, 2, 3, 4, 5, 6, 7, 8, 9, 10)\n"
     ]
    }
   ],
   "source": [
    "n = tuple(range(11))\n",
    "print(n)"
   ]
  },
  {
   "cell_type": "code",
   "execution_count": 3,
   "id": "0336d140",
   "metadata": {},
   "outputs": [
    {
     "name": "stdout",
     "output_type": "stream",
     "text": [
      "{0, 1, 2, 3, 4, 5, 6, 7, 8, 9, 10}\n"
     ]
    }
   ],
   "source": [
    "n = set(range(11))\n",
    "print(n)"
   ]
  },
  {
   "cell_type": "code",
   "execution_count": null,
   "id": "ea5aa556",
   "metadata": {},
   "outputs": [],
   "source": []
  },
  {
   "cell_type": "code",
   "execution_count": null,
   "id": "3f1680f0",
   "metadata": {},
   "outputs": [],
   "source": []
  },
  {
   "cell_type": "markdown",
   "id": "57a3b0de",
   "metadata": {},
   "source": []
  },
  {
   "cell_type": "markdown",
   "id": "b679f889",
   "metadata": {},
   "source": [
    "Module 6"
   ]
  },
  {
   "cell_type": "code",
   "execution_count": 14,
   "id": "5bfff1b6",
   "metadata": {},
   "outputs": [],
   "source": [
    "# Dictionary\n",
    "\n",
    "dict = {'a':'apple', 'b':'ball', 'c':'cat', 'd':'dog'}"
   ]
  },
  {
   "cell_type": "code",
   "execution_count": 15,
   "id": "ee4899cd",
   "metadata": {},
   "outputs": [
    {
     "name": "stdout",
     "output_type": "stream",
     "text": [
      "{'a': 'apple', 'b': 'ball', 'c': 'cat', 'd': 'dog', 'e': 'elephant'}\n"
     ]
    }
   ],
   "source": [
    "dict['e'] = 'elephant'\n",
    "print(dict)"
   ]
  },
  {
   "cell_type": "code",
   "execution_count": 16,
   "id": "32fcb24d",
   "metadata": {},
   "outputs": [
    {
     "name": "stdout",
     "output_type": "stream",
     "text": [
      "{'a': 'apple', 'b': 'ball', 'd': 'dog', 'e': 'elephant'}\n"
     ]
    }
   ],
   "source": [
    "del(dict['c'])\n",
    "print(dict)"
   ]
  },
  {
   "cell_type": "code",
   "execution_count": 10,
   "id": "dd3c66b6",
   "metadata": {},
   "outputs": [
    {
     "name": "stdout",
     "output_type": "stream",
     "text": [
      "['Mike', 10.1, 1980, 10, 12, 9]\n"
     ]
    }
   ],
   "source": [
    "# Lists\n",
    "\n",
    "l = ['Mike', 10.1, 1980, 10, 12]\n",
    "\n",
    "l.append(9)\n",
    "print(l)"
   ]
  },
  {
   "cell_type": "code",
   "execution_count": 3,
   "id": "f8817a69",
   "metadata": {},
   "outputs": [
    {
     "name": "stdout",
     "output_type": "stream",
     "text": [
      "['Mike', 10.1, 1980, 10, 12, 9, 11, 12, 13]\n"
     ]
    }
   ],
   "source": [
    "l.extend([11,12,13])\n",
    "print(l)"
   ]
  },
  {
   "cell_type": "code",
   "execution_count": 4,
   "id": "f6ef3e1e",
   "metadata": {},
   "outputs": [
    {
     "name": "stdout",
     "output_type": "stream",
     "text": [
      "['Mike', 10.1, 1980, 10, 9, 11, 12, 13]\n"
     ]
    }
   ],
   "source": [
    "l.remove(12)\n",
    "print(l)"
   ]
  },
  {
   "cell_type": "code",
   "execution_count": 7,
   "id": "844887d4",
   "metadata": {},
   "outputs": [
    {
     "name": "stdout",
     "output_type": "stream",
     "text": [
      "[1980, 10, 9, 11, 12, 13]\n"
     ]
    }
   ],
   "source": [
    "del l[0:2]\n",
    "print(l)"
   ]
  },
  {
   "cell_type": "code",
   "execution_count": 11,
   "id": "9407c22b",
   "metadata": {},
   "outputs": [
    {
     "name": "stdout",
     "output_type": "stream",
     "text": [
      "['Mike', 10.1, 10, 12, 9]\n"
     ]
    }
   ],
   "source": [
    "l.pop(2)\n",
    "print(l)"
   ]
  },
  {
   "cell_type": "code",
   "execution_count": 12,
   "id": "57923c29",
   "metadata": {},
   "outputs": [
    {
     "name": "stdout",
     "output_type": "stream",
     "text": [
      "['Mike', 10.1, 'pop', 10, 12, 9]\n"
     ]
    }
   ],
   "source": [
    "l.insert(2, 'pop')\n",
    "print(l)"
   ]
  },
  {
   "cell_type": "code",
   "execution_count": 9,
   "id": "b7f0679c",
   "metadata": {},
   "outputs": [
    {
     "name": "stdout",
     "output_type": "stream",
     "text": [
      "[]\n"
     ]
    }
   ],
   "source": [
    "l.clear()\n",
    "print(l)"
   ]
  },
  {
   "cell_type": "code",
   "execution_count": 13,
   "id": "15a86345",
   "metadata": {},
   "outputs": [
    {
     "name": "stdout",
     "output_type": "stream",
     "text": [
      "[0, 1, 4, 9, 16, 25, 36, 49, 64, 81, 100]\n"
     ]
    }
   ],
   "source": [
    "# List Comprehension\n",
    "\n",
    "x =[]\n",
    "for i in range(11):\n",
    "    z = i ** 2\n",
    "    x.append(z)\n",
    "print(x)"
   ]
  },
  {
   "cell_type": "code",
   "execution_count": 14,
   "id": "051f1f38",
   "metadata": {},
   "outputs": [
    {
     "name": "stdout",
     "output_type": "stream",
     "text": [
      "[0, 1, 4, 9, 16, 25, 36, 49, 64, 81, 100]\n"
     ]
    }
   ],
   "source": [
    "x = [i ** 2 for i in range(11)]\n",
    "print(x)"
   ]
  },
  {
   "cell_type": "code",
   "execution_count": 15,
   "id": "b8d7ed3b",
   "metadata": {},
   "outputs": [
    {
     "name": "stdout",
     "output_type": "stream",
     "text": [
      "[0, 4, 16, 36, 64, 100]\n"
     ]
    }
   ],
   "source": [
    "x =[]\n",
    "for i in range(11):\n",
    "    if i % 2 == 0:\n",
    "        z = i ** 2\n",
    "        x.append(z)\n",
    "print(x)"
   ]
  },
  {
   "cell_type": "code",
   "execution_count": 2,
   "id": "f6c1df55",
   "metadata": {},
   "outputs": [],
   "source": [
    "# Set\n",
    "\n",
    "set_1 = {1,2,3,4,5,}\n",
    "set_2 = {2,3,5,7}"
   ]
  },
  {
   "cell_type": "code",
   "execution_count": 6,
   "id": "49aecbe5",
   "metadata": {},
   "outputs": [
    {
     "name": "stdout",
     "output_type": "stream",
     "text": [
      "{1, 2, 3, 4, 5, 6}\n"
     ]
    }
   ],
   "source": [
    "set_1.add(6)\n",
    "print(set_1)"
   ]
  },
  {
   "cell_type": "code",
   "execution_count": 7,
   "id": "1001e769",
   "metadata": {},
   "outputs": [
    {
     "name": "stdout",
     "output_type": "stream",
     "text": [
      "{1, 2, 3, 4, 5}\n"
     ]
    }
   ],
   "source": [
    "set_1.remove(6)\n",
    "print(set_1)"
   ]
  },
  {
   "cell_type": "code",
   "execution_count": 3,
   "id": "57575cca",
   "metadata": {},
   "outputs": [
    {
     "name": "stdout",
     "output_type": "stream",
     "text": [
      "{2, 3, 5}\n"
     ]
    }
   ],
   "source": [
    "print(set_1 & set_2)"
   ]
  },
  {
   "cell_type": "code",
   "execution_count": 4,
   "id": "5b79604e",
   "metadata": {},
   "outputs": [
    {
     "name": "stdout",
     "output_type": "stream",
     "text": [
      "{1, 2, 3, 4, 5, 7}\n"
     ]
    }
   ],
   "source": [
    "print(set_1.union(set_2))"
   ]
  },
  {
   "cell_type": "code",
   "execution_count": 8,
   "id": "ec695dab",
   "metadata": {},
   "outputs": [],
   "source": [
    "# Strings\n",
    "\n",
    "a = 'sameeR'"
   ]
  },
  {
   "cell_type": "code",
   "execution_count": 9,
   "id": "384e4ca1",
   "metadata": {},
   "outputs": [
    {
     "name": "stdout",
     "output_type": "stream",
     "text": [
      "Sameer\n"
     ]
    }
   ],
   "source": [
    "print(a.capitalize())"
   ]
  },
  {
   "cell_type": "code",
   "execution_count": 10,
   "id": "bcad7028",
   "metadata": {},
   "outputs": [
    {
     "name": "stdout",
     "output_type": "stream",
     "text": [
      "SAMEER\n"
     ]
    }
   ],
   "source": [
    "print(a.upper())"
   ]
  },
  {
   "cell_type": "code",
   "execution_count": 11,
   "id": "8695fd5e",
   "metadata": {},
   "outputs": [
    {
     "name": "stdout",
     "output_type": "stream",
     "text": [
      "sameer\n"
     ]
    }
   ],
   "source": [
    "print(a.lower())"
   ]
  },
  {
   "cell_type": "code",
   "execution_count": 12,
   "id": "fc7005de",
   "metadata": {},
   "outputs": [],
   "source": [
    "b = \"Mike is a good boy.\""
   ]
  },
  {
   "cell_type": "code",
   "execution_count": 14,
   "id": "76aa64c5",
   "metadata": {},
   "outputs": [
    {
     "name": "stdout",
     "output_type": "stream",
     "text": [
      "True\n"
     ]
    }
   ],
   "source": [
    "print(b.startswith('Mike'))"
   ]
  },
  {
   "cell_type": "code",
   "execution_count": 15,
   "id": "300c9002",
   "metadata": {},
   "outputs": [
    {
     "name": "stdout",
     "output_type": "stream",
     "text": [
      "False\n"
     ]
    }
   ],
   "source": [
    "print(b.startswith('mike'))"
   ]
  },
  {
   "cell_type": "code",
   "execution_count": 17,
   "id": "29cdb4e2",
   "metadata": {},
   "outputs": [
    {
     "name": "stdout",
     "output_type": "stream",
     "text": [
      "True\n"
     ]
    }
   ],
   "source": [
    "print(b.endswith('boy.'))"
   ]
  },
  {
   "cell_type": "code",
   "execution_count": 18,
   "id": "646aedd1",
   "metadata": {},
   "outputs": [
    {
     "name": "stdout",
     "output_type": "stream",
     "text": [
      "Nick is a good boy.\n"
     ]
    }
   ],
   "source": [
    "print(b.replace('Mike','Nick'))"
   ]
  },
  {
   "cell_type": "code",
   "execution_count": 19,
   "id": "8801cfd8",
   "metadata": {},
   "outputs": [],
   "source": [
    "c = \"   Mike is a good boy.\""
   ]
  },
  {
   "cell_type": "code",
   "execution_count": 20,
   "id": "a32451dc",
   "metadata": {},
   "outputs": [
    {
     "name": "stdout",
     "output_type": "stream",
     "text": [
      "Mike is a good boy.\n"
     ]
    }
   ],
   "source": [
    "print(c.lstrip())"
   ]
  },
  {
   "cell_type": "code",
   "execution_count": 21,
   "id": "2dfb5a10",
   "metadata": {},
   "outputs": [
    {
     "name": "stdout",
     "output_type": "stream",
     "text": [
      "['Mike', 'is', 'a', 'good', 'boy.']\n"
     ]
    }
   ],
   "source": [
    "print(c.split())"
   ]
  },
  {
   "cell_type": "code",
   "execution_count": 22,
   "id": "3a4a77fe",
   "metadata": {},
   "outputs": [
    {
     "name": "stdout",
     "output_type": "stream",
     "text": [
      "['   Mike is a good boy.']\n"
     ]
    }
   ],
   "source": [
    "print(c.splitlines())"
   ]
  },
  {
   "cell_type": "code",
   "execution_count": 25,
   "id": "65cab0ce",
   "metadata": {},
   "outputs": [
    {
     "name": "stdout",
     "output_type": "stream",
     "text": [
      "('Mike', 'Nick')\n"
     ]
    }
   ],
   "source": [
    "d = 'Mike', 'Nick'\n",
    "e = ','\n",
    "print(d)"
   ]
  },
  {
   "cell_type": "code",
   "execution_count": 27,
   "id": "49d1a5a8",
   "metadata": {},
   "outputs": [
    {
     "name": "stdout",
     "output_type": "stream",
     "text": [
      "Mike,Nick\n"
     ]
    }
   ],
   "source": [
    "print(e.join(d))"
   ]
  },
  {
   "cell_type": "code",
   "execution_count": 1,
   "id": "b0c39585",
   "metadata": {},
   "outputs": [
    {
     "name": "stdout",
     "output_type": "stream",
     "text": [
      "12\n"
     ]
    }
   ],
   "source": [
    "name = 'Mike'\n",
    "number = len(name)*3\n",
    "print(number)"
   ]
  },
  {
   "cell_type": "code",
   "execution_count": 4,
   "id": "3f39c5f9",
   "metadata": {},
   "outputs": [
    {
     "name": "stdout",
     "output_type": "stream",
     "text": [
      "Hello Mike, your lucky number is 12.\n"
     ]
    }
   ],
   "source": [
    "print(\"Hello {}, your lucky number is {}.\".format(name,number))"
   ]
  },
  {
   "cell_type": "code",
   "execution_count": 6,
   "id": "27b545e5",
   "metadata": {},
   "outputs": [
    {
     "name": "stdout",
     "output_type": "stream",
     "text": [
      "This is an example of format() method on a string.\n"
     ]
    }
   ],
   "source": [
    "example = \"format() method\"\n",
    "string = \"This is an example of {} on a string.\".format(example)\n",
    "print(string)"
   ]
  },
  {
   "cell_type": "code",
   "execution_count": 10,
   "id": "d80a4588",
   "metadata": {},
   "outputs": [
    {
     "name": "stdout",
     "output_type": "stream",
     "text": [
      "apple banana cat\n"
     ]
    }
   ],
   "source": [
    "first = 'apple'\n",
    "second = 'banana'\n",
    "third = 'cat'\n",
    "\n",
    "string = \"{} {} {}\".format(first, second, third)\n",
    "print(string)"
   ]
  },
  {
   "cell_type": "code",
   "execution_count": 11,
   "id": "48144d7a",
   "metadata": {},
   "outputs": [
    {
     "name": "stdout",
     "output_type": "stream",
     "text": [
      "apple cat banana\n"
     ]
    }
   ],
   "source": [
    "string = \"{0} {2} {1}\".format(first, second, third)\n",
    "print(string)"
   ]
  },
  {
   "cell_type": "code",
   "execution_count": 13,
   "id": "5d0e2c45",
   "metadata": {},
   "outputs": [
    {
     "name": "stdout",
     "output_type": "stream",
     "text": [
      "150 200\n"
     ]
    }
   ],
   "source": [
    "price = 150\n",
    "with_tax = 150+50\n",
    "print(price, with_tax)"
   ]
  },
  {
   "cell_type": "code",
   "execution_count": 14,
   "id": "905d8eaf",
   "metadata": {},
   "outputs": [
    {
     "name": "stdout",
     "output_type": "stream",
     "text": [
      "Price: Rs150.00. With Tax : Rs200.00\n"
     ]
    }
   ],
   "source": [
    "print(\"Price: Rs{:.2f}. With Tax : Rs{:.2f}\".format(price, with_tax))"
   ]
  },
  {
   "cell_type": "code",
   "execution_count": null,
   "id": "089f1716",
   "metadata": {},
   "outputs": [],
   "source": [
    "# Tuple\n",
    "\n"
   ]
  },
  {
   "cell_type": "markdown",
   "id": "f2c16eec",
   "metadata": {},
   "source": [
    "# Functional Programming"
   ]
  },
  {
   "cell_type": "code",
   "execution_count": 46,
   "id": "4a1c9bb8",
   "metadata": {},
   "outputs": [
    {
     "name": "stdout",
     "output_type": "stream",
     "text": [
      "Hello, John Doe! Welcome to the Python program.\n"
     ]
    }
   ],
   "source": [
    "inputC = input(\"Enter yoyr first name: \")\n",
    "inputD = input(\"Enter yoyr last name: \")\n",
    "concat = inputC + inputD\n",
    "print('Hello,'+' '+inputC +' '+ inputD+'!', 'Welcome to the Python program.')"
   ]
  },
  {
   "cell_type": "code",
   "execution_count": null,
   "id": "ce60a6c8",
   "metadata": {},
   "outputs": [],
   "source": []
  }
 ],
 "metadata": {
  "kernelspec": {
   "display_name": "Python 3",
   "language": "python",
   "name": "python3"
  },
  "language_info": {
   "codemirror_mode": {
    "name": "ipython",
    "version": 3
   },
   "file_extension": ".py",
   "mimetype": "text/x-python",
   "name": "python",
   "nbconvert_exporter": "python",
   "pygments_lexer": "ipython3",
   "version": "3.10.8"
  }
 },
 "nbformat": 4,
 "nbformat_minor": 5
}
